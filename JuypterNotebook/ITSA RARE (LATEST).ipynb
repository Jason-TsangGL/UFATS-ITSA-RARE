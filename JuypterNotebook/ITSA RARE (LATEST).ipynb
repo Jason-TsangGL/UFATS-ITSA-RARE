{
 "cells": [
  {
   "cell_type": "markdown",
   "metadata": {
    "scrolled": true
   },
   "source": [
    "!pip install simpleitk\n",
    "!pip install numpy\n",
    "!pip install pynrrd\n",
    "!pip install opencv-python"
   ]
  },
  {
   "cell_type": "code",
   "execution_count": null,
   "metadata": {},
   "outputs": [],
   "source": [
    "import matplotlib.pyplot as plt\n",
    "import numpy as np\n",
    "import SimpleITK as sitk\n",
    "import os as os\n",
    "import nrrd as reader\n",
    "import pandas as pd\n",
    "import cv2 \n",
    "import csv\n",
    "from tqdm import tqdm\n",
    "from tabulate import tabulate\n",
    "from skimage import morphology\n",
    "from skimage import measure\n",
    "from skimage import segmentation\n",
    "from skimage.segmentation import flood, flood_fill\n",
    "from skimage.measure import label\n",
    "from skimage.segmentation import active_contour\n",
    "from skimage import data, io, img_as_ubyte,filters\n",
    "from time import sleep\n",
    "from IPython.display import clear_output"
   ]
  },
  {
   "cell_type": "code",
   "execution_count": null,
   "metadata": {},
   "outputs": [],
   "source": [
    "def PatientViewer (Array, ArrayN, Array1, ArrayN1, Array2, ArrayN2):\n",
    "    s=1\n",
    "    for i in range (0,totalslices,slicesperpatient):\n",
    "        fig, axs=plt.subplots (1,3, figsize=(15,10))\n",
    "        axs[0].imshow(Array[i],\"bone\",vmin=0,vmax=256)\n",
    "        axs[0].set_title(f'{ArrayN} Patient {s}')\n",
    "        axs[0].axis(\"off\")\n",
    "        axs[1].imshow(Array1[i],\"bone\",vmax=256)\n",
    "        axs[1].set_title(f'{ArrayN1} Patient {s}')\n",
    "        axs[1].axis(\"off\")\n",
    "        axs[2].imshow(Array2[i],\"bone\",vmin=0,vmax=255)\n",
    "        axs[2].set_title(f'{ArrayN2} Patient {s}')\n",
    "        axs[2].axis(\"off\")\n",
    "        s+=1"
   ]
  },
  {
   "cell_type": "code",
   "execution_count": null,
   "metadata": {},
   "outputs": [],
   "source": [
    "def join(one, two):\n",
    "    return os.path.join(one, two)"
   ]
  },
  {
   "cell_type": "code",
   "execution_count": null,
   "metadata": {},
   "outputs": [],
   "source": [
    "def check_path(path):\n",
    "    count=0\n",
    "    for files in sorted(os.listdir(path)):\n",
    "        image_path = os.path.join(path,files)\n",
    "        count+=1\n",
    "    return count"
   ]
  },
  {
   "cell_type": "code",
   "execution_count": null,
   "metadata": {},
   "outputs": [],
   "source": [
    "#functions for inhomogeneity correction \n",
    "def correct_roi(image):\n",
    "    inputImage=sitk.GetImageFromArray(image)\n",
    "    inputImage = sitk.Cast(inputImage, sitk.sitkFloat32 )\n",
    "    corrector = sitk.N4BiasFieldCorrectionImageFilter()\n",
    "    output = corrector.Execute( inputImage)\n",
    "    image_c= sitk.GetArrayFromImage(output)\n",
    "    image_c=cv2.normalize(src=image_c, dst=None, alpha=0.0, beta=255.0, norm_type=cv2.NORM_MINMAX, dtype=cv2.CV_8U) #need to normalize, not direct conversion by \"np.uint8\"\n",
    "    return image_c"
   ]
  },
  {
   "cell_type": "code",
   "execution_count": null,
   "metadata": {},
   "outputs": [],
   "source": [
    "def dcm_to_np(path):\n",
    "    global dic_count\n",
    "    try:\n",
    "        slice_filenames = sitk.ImageSeriesReader_GetGDCMSeriesFileNames(path)\n",
    "        image = sitk.ReadImage(slice_filenames)\n",
    "        for x in range(slicesperpatient):\n",
    "            current_slice = image[:, :, x]\n",
    "            current_array = sitk.GetArrayFromImage(current_slice)\n",
    "            split_array = current_array[:,:-256]\n",
    "            inputs[dic_count] = split_array[:, :, np.newaxis]\n",
    "            dic_count+=1\n",
    "        print(f'{patient} {R}/{num_patients}')\n",
    "    except Exception as e:\n",
    "        print(e)"
   ]
  },
  {
   "cell_type": "code",
   "execution_count": null,
   "metadata": {},
   "outputs": [],
   "source": [
    "def nrrd_to_np(meta_object,outputs):\n",
    "    global ann_count\n",
    "    try:\n",
    "        data = sitk.GetArrayFromImage(meta_object)\n",
    "        for p in range(slicesperpatient):\n",
    "            current_seg = data[p, :, :]\n",
    "            half_seg= current_seg[:,:-256]\n",
    "            black = np.zeros([256, 256, 9])\n",
    "            for y, a in enumerate(half_seg):\n",
    "                for x, b in enumerate(a):\n",
    "                    if b>0:\n",
    "                        black[y][x][b-1] = 1\n",
    "            outputs[ann_count] = black\n",
    "            ann_count+=1\n",
    "        print(\"Segmentation Imported\")\n",
    "    except Exception as e:\n",
    "        print(e)"
   ]
  },
  {
   "cell_type": "code",
   "execution_count": null,
   "metadata": {},
   "outputs": [],
   "source": [
    "def fle_to_np(meta_object,outputs):\n",
    "    global fle_count\n",
    "    try:\n",
    "        data = sitk.GetArrayFromImage(meta_object)\n",
    "        for p in range(slicesperpatient):\n",
    "            outputs[fle_count] = np.expand_dims(np.where(data[p, :, :256] == 1, 1, 0), axis=2)\n",
    "            fle_count+=1\n",
    "        print('FLE IMPORTED')        \n",
    "    except Exception as e:\n",
    "        print(e)"
   ]
  },
  {
   "cell_type": "code",
   "execution_count": null,
   "metadata": {},
   "outputs": [],
   "source": [
    "def npnormalization (inputimage):\n",
    "    for x in range (5): #NumPy Normalization  \n",
    "        clear_output(wait=True)\n",
    "        temp = inputimage[x].reshape(256, 256)\n",
    "        temp1= correct_roi(temp)\n",
    "        np.linalg.norm(temp1)\n",
    "        inputs[x]=temp1[:, :, np.newaxis]\n",
    "        print(f'{x+1}/{totalslices} Slices |{round((x/totalslices)*100)}%|')\n",
    "    print(f'Normalization Complete')\n",
    "    return inputs"
   ]
  },
  {
   "cell_type": "code",
   "execution_count": null,
   "metadata": {},
   "outputs": [],
   "source": [
    "def imageprocessor(Array,Image,Segmentations,FLESegmentations):\n",
    "    print(\"Processing DICOMs with Imported Segmentations... Please Wait...\")\n",
    "    imageI = Array[:, :, :, 0] #Inputs Variable \n",
    "    ArrayI = np.empty((num_patients * Image.GetSize()[2], int(Image.GetSize()[0]/2), int(Image.GetSize()[1]), 1))\n",
    "    mskROI = np.empty((num_patients * Image.GetSize()[2], int(Image.GetSize()[0]/2), int(Image.GetSize()[1]), 1))\n",
    "    fleoutputsI = np.empty((num_patients * InputImage.GetSize()[2], int(InputImage.GetSize()[0]/2), int(InputImage.GetSize()[1]), 1))\n",
    "    boneremoval = np.empty((num_patients * InputImage.GetSize()[2], int(InputImage.GetSize()[0]/2), int(InputImage.GetSize()[1]), 1))\n",
    "    for x in range (totalslices): \n",
    "        for i in range (9):\n",
    "            if i !=2:\n",
    "                ArrayI[x,:,:,0]+=Segmentations[x,:,:,i] #Merged MSK Mask\n",
    "    FArrayI = FLESegmentations[:,:,:,0]\n",
    "    boneremoval = Segmentations[:,:,:,2]\n",
    "    ArrayII = ArrayI[:, :, :, 0] # Get rid of [:,:,:,1]\n",
    "    INVArrayI = 1 - FArrayI #Invered Mask\n",
    "    INVArrayII = INVArrayI * imageI #Mask multipled with array\n",
    "    arraymean = np.nanmean(np.where(Array!=0,Array,np.nan))\n",
    "    arraystd = np.nanstd(np.where(Array!=0,Array,np.nan))\n",
    "    print(f'Array Mean - 1.5 STD = {arraymean-1.5*arraystd}')\n",
    "    INVArrayIII = np.where(INVArrayII > (arraymean-1.5*arraystd), 1, 0)\n",
    "    FArrayII = INVArrayIII + FArrayI #Add both the merged msk and inv msk together\n",
    "    \n",
    "    print(\"Pre Process-------------------------------------------\")\n",
    "    for i in range (0,totalslices,slicesperpatient):\n",
    "        plt.imshow(imageI[i],cmap=plt.cm.bone,vmin=0,vmax=255)\n",
    "        plt.show()\n",
    "        \n",
    "    FinalArray = FArrayII * imageI #Multiply new mask with original image\n",
    "    mskROI = imageI * ArrayII\n",
    "    fleROI = imageI * (FArrayI-boneremoval)\n",
    "    print(\"Post Process-------------------------------------------\")\n",
    "    for i in range (0,totalslices,slicesperpatient):\n",
    "        plt.imshow(FinalArray[i],cmap=plt.cm.bone,vmin=0,vmax=255)\n",
    "        plt.show()\n",
    "        \n",
    "    return FinalArray,mskROI,fleROI,ArrayII\n",
    "    "
   ]
  },
  {
   "cell_type": "code",
   "execution_count": null,
   "metadata": {},
   "outputs": [],
   "source": [
    "def multi_otsu(image):\n",
    "    motsuth=filters.threshold_multiotsu(image, classes=3)\n",
    "    print(motsuth)\n",
    "    print (f\"Slice {i+1} otsu threshold={motsuth[1]}\")\n",
    "    regions=np.digitize(image,bins=motsuth)\n",
    "    output=img_as_ubyte(regions)\n",
    "    return motsuth[1] #(fat+ muscle th)"
   ]
  },
  {
   "cell_type": "code",
   "execution_count": null,
   "metadata": {},
   "outputs": [],
   "source": [
    "def connectivity(fatmask,OG_VOL,z_connection):\n",
    "        fatmask = np.uint8(fatmask)\n",
    "        if i==0:\n",
    "            fatcombined_next=OG_VOL[i+1]+fatmask\n",
    "            ret, fatconnectedparts_next= cv2.threshold(fatcombined_next,1,1,cv2.THRESH_BINARY)\n",
    "            z_connection=fatconnectedparts_next\n",
    "        elif i==(totalslices-1):\n",
    "            fatcombined_prev=OG_VOL[i-1]+fatmask\n",
    "            ret, fatconnectedparts_prev= cv2.threshold(fatcombined_prev,1,1,cv2.THRESH_BINARY)\n",
    "            z_connection=fatconnectedparts_prev  \n",
    "        else:\n",
    "            fatcombined_prev=OG_VOL[i-1]+fatmask\n",
    "            fatcombined_next=fatmask+OG_VOL[i+1]\n",
    "            ret, fatconnectedparts_prev= cv2.threshold(fatcombined_prev,1,1,cv2.THRESH_BINARY)\n",
    "            ret, fatconnectedparts_next= cv2.threshold(fatcombined_next,1,1,cv2.THRESH_BINARY)\n",
    "\n",
    "            z_connection=fatconnectedparts_prev+fatconnectedparts_next\n",
    "            ret, z_connection= cv2.threshold(z_connection,0,1,cv2.THRESH_BINARY)         \n",
    "        #NEW: find XY connections to Z connected parts\n",
    "        coordinates= np.argwhere(z_connection ==1)    \n",
    "        im_ff=fatmask.copy()\n",
    "        h, w = im_ff.shape[:2] #added\n",
    "        mask = np.zeros((h+2, w+2), np.uint8)\n",
    "        for item in range(len(coordinates)):\n",
    "            cv2.floodFill(im_ff, mask, (coordinates[item][1],coordinates[item][0]), 2) \n",
    "        #Remove small islands for Non-Z parts\n",
    "        nonZ =label(im_ff==1)\n",
    "        nonZ_keep = (morphology.remove_small_objects(nonZ,min_size=8, connectivity=1))\n",
    "        ret, nonZ_keep= cv2.threshold(np.uint8(nonZ_keep),0,1,cv2.THRESH_BINARY)\n",
    "        Z = (im_ff==2)\n",
    "        prefatseg1=(Z+nonZ_keep) #do we need int cus boolean??\n",
    "        fatseg1=prefatseg1*OG_VOL[i]\n",
    "        return fatseg1"
   ]
  },
  {
   "cell_type": "code",
   "execution_count": null,
   "metadata": {},
   "outputs": [],
   "source": [
    "def ITSA(i,InROI, ots, OG_VOL):\n",
    "    k=1\n",
    "    ThPrev=0 \n",
    "    ThRev= ots[i] \n",
    "    x=0\n",
    "    y=0\n",
    "    \n",
    "    while ThRev!=ThPrev:\n",
    "        ThPrev=ThRev\n",
    "        prefatmask = (InROI[i]>ThRev)\n",
    "        prefatmask = np.uint8(prefatmask)\n",
    "        ret, fatmask = cv2.threshold(prefatmask,0,1,cv2.THRESH_BINARY)  #need this??\n",
    "        if i==0:\n",
    "            fatcombined_next=OG_VOL[i+1]+fatmask\n",
    "            ret, fatconnectedparts_next= cv2.threshold(fatcombined_next,1,1,cv2.THRESH_BINARY)\n",
    "            z_connection=fatconnectedparts_next\n",
    "        elif i==(totalslices-1):\n",
    "            fatcombined_prev=OG_VOL[i-1]+fatmask\n",
    "            ret, fatconnectedparts_prev= cv2.threshold(fatcombined_prev,1,1,cv2.THRESH_BINARY)\n",
    "            z_connection=fatconnectedparts_prev  \n",
    "        else:\n",
    "            fatcombined_prev=OG_VOL[i-1]+fatmask\n",
    "            fatcombined_next=fatmask+OG_VOL[i+1]\n",
    "            ret, fatconnectedparts_prev= cv2.threshold(fatcombined_prev,1,1,cv2.THRESH_BINARY)\n",
    "            ret, fatconnectedparts_next= cv2.threshold(fatcombined_next,1,1,cv2.THRESH_BINARY)\n",
    "\n",
    "            z_connection=fatconnectedparts_prev+fatconnectedparts_next\n",
    "            ret, z_connection= cv2.threshold(z_connection,0,1,cv2.THRESH_BINARY)         \n",
    "        #NEW: find XY connections to Z connected parts\n",
    "        coordinates= np.argwhere(z_connection ==1) #put coordinates of Z-connections into a list      \n",
    "        im_ff=fatmask.copy()\n",
    "        h, w = im_ff.shape[:2] #added\n",
    "        mask = np.zeros((h+2, w+2), np.uint8)\n",
    "        for item in range(len(coordinates)):\n",
    "            cv2.floodFill(im_ff, mask, (coordinates[item][1],coordinates[item][0]), 2) \n",
    "        #Remove small islands for Non-Z parts\n",
    "        nonZ =label(im_ff==1)\n",
    "        nonZ_keep = (morphology.remove_small_objects(nonZ,min_size=8, connectivity=1))\n",
    "        ret, nonZ_keep= cv2.threshold(np.uint8(nonZ_keep),0,1,cv2.THRESH_BINARY)\n",
    "        Z = (im_ff==2)\n",
    "        prefatseg1=(Z+nonZ_keep) #do we need int cus boolean??\n",
    "        fatseg1=prefatseg1*InROI[i]\n",
    "        #Fat and Muscle Quantification\n",
    "        preMuscSegP=InROI[i]-fatseg1\n",
    "        MuscSegP=np.ma.masked_where(preMuscSegP == 0, preMuscSegP)\n",
    "        MuscSeg = InROI[i]*MuscSegP\n",
    "        FatSegP=np.ma.masked_where(fatseg1==0,fatseg1) \n",
    "        plt.imshow(FatSegP)\n",
    "        MuscSegI=np.mean(MuscSegP)\n",
    "        FatSegI=np.mean(FatSegP)\n",
    "        ThRev=(1+((FatSegI-MuscSegI)/FatSegI))*MuscSegI\n",
    "        print (f\"Slice #{i+1} Iteration={k}\\n\\tThPrev={ThPrev}\\n\\tThRev={ThRev}\\n\")\n",
    "\n",
    "        k+=1\n",
    "        if k==50:\n",
    "            break\n",
    "    \n",
    "    \n",
    "    thresholds = ThRev\n",
    "    \n",
    "    return fatseg1,thresholds"
   ]
  },
  {
   "cell_type": "code",
   "execution_count": null,
   "metadata": {},
   "outputs": [],
   "source": [
    "def correction(SegmentedFatROI,ROIArray):\n",
    "    print('Muscle Segmentation')\n",
    "    plt.hist(np.where(ROIArray[1] !=0,ROIArray[1],np.nan))\n",
    "    plt.show()\n",
    "    print('Fat Segmentation')\n",
    "    plt.hist(np.where(SegmentedFatROI[1] !=0,SegmentedFatROI[1],np.nan))\n",
    "    plt.show()\n",
    "    \n",
    "    musclemean=np.nanmean(np.where(ROIArray !=0,ROIArray,np.nan))\n",
    "    musclestd=np.nanstd(np.where(ROIArray !=0,ROIArray,np.nan))\n",
    "    print(\"mean\")\n",
    "    print(musclemean)\n",
    "    print(\"standard dev\")\n",
    "    print(musclestd)\n",
    "\n",
    "    MUSCLETHRES = int(musclemean+(2*musclestd))\n",
    "    print('Muscle Threshold')\n",
    "    print(MUSCLETHRES)\n",
    "    fatseg2 = np.where(SegmentedFatROI > MUSCLETHRES, SegmentedFatROI, 0) \n",
    "    \n",
    "    print(\"before\")\n",
    "    plt.imshow(SegmentedFatROI[1],cmap='bone',vmin=0,vmax=256)\n",
    "    plt.show()\n",
    "    print(\"after\")\n",
    "    plt.imshow(fatseg2[1],cmap='bone',vmin=0,vmax=256)\n",
    "    plt.show()\n",
    "    fatseg2\n",
    "    \n",
    "    return fatseg2\n",
    "    "
   ]
  },
  {
   "cell_type": "code",
   "execution_count": null,
   "metadata": {},
   "outputs": [],
   "source": [
    "def dataexport(ROIimage,FatSegmentation,MRImage):\n",
    "    muscfatarea=np.empty([num_patients,1])\n",
    "    fatarea=np.empty([num_patients,1])\n",
    "    muscarea=np.empty([num_patients,1])\n",
    "    fatperc=np.empty([num_patients,1])\n",
    "    muscfatvol=np.empty([num_patients,1])\n",
    "    fatvol=np.empty([num_patients,1])\n",
    "    muscvol=np.empty([num_patients,1])\n",
    "    muscleroi=ROIimage-FatSegmentation\n",
    "    s=0\n",
    "    for i in range (0,totalslices,slicesperpatient):\n",
    "        MuscFatAreaPix=0\n",
    "        FatAreaPix=0\n",
    "        MuscAreaPix=0\n",
    "        MuscFatAreaCM=0\n",
    "        FatAreaCM=0\n",
    "        MuscAreaCM=0\n",
    "        for x in range (0,slicesperpatient,1):\n",
    "            MuscFatAreaPix+=np.sum(ROIimage[i+x]>0)\n",
    "            FatAreaPix+=np.sum(FatSegmentation[i+x]>0)\n",
    "\n",
    "        MuscFatAreaCM=MuscFatAreaPix*((MRImage.GetSpacing()[0]*MRImage.GetSpacing()[0])/100) #(InputImage.GetSpacing()[0]*InputImage.GetSpacing()[0])/10#\n",
    "        FatAreaCM=FatAreaPix*((MRImage.GetSpacing()[0]*MRImage.GetSpacing()[0])/100)\n",
    "\n",
    "        muscfatarea[s] = MuscFatAreaCM\n",
    "        fatarea[s] = FatAreaCM\n",
    "        muscarea[s] = MuscFatAreaCM - FatAreaCM\n",
    "        \n",
    "        muscfatvol[s] = muscfatarea[s]*(MRImage.GetSpacing()[2]/10)\n",
    "        fatvol[s] = fatarea[s]*(MRImage.GetSpacing()[2]/10)\n",
    "        muscvol[s] = muscarea[s]*(MRImage.GetSpacing()[2]/10)\n",
    "        fatperc[s] = (fatarea[s]/muscfatarea[s])*100\n",
    "        print(f'__________________________________________________Patient #{s+1}')\n",
    "        print(tabulate([[' MUSCLE & FAT AREA', muscfatarea[s], '∑(cm^2)'] , ['FAT AREA', fatarea[s], '∑(cm^2)'],[' MUSCLE AREA', muscarea[s], '∑(cm^2)'],['FAT PERCENTAGE', fatperc[s], '%'],[' MUSCLE & FAT VOLUME', muscfatvol[s], '∑(cm^3)'],['FAT VOLUME',fatvol[s], '∑(cm^3)'],['MUSCLE VOLUME', muscvol[s], '∑(cm^3)']],     headers=['Data', 'Value','Units']))\n",
    "        s+=1\n",
    "\n",
    "    PDF=np.empty([num_patients,1])\n",
    "    PDF=np.append(muscfatarea,fatarea,axis=1)\n",
    "    PDF=np.append(PDF,muscarea,axis=1)\n",
    "    PDF=np.append(PDF,fatperc,axis=1)\n",
    "    PDF=np.append(PDF,muscfatvol,axis=1)\n",
    "    PDF=np.append(PDF,fatvol,axis=1)\n",
    "    PDF=np.append(PDF,muscvol,axis=1)\n",
    "    return PDF"
   ]
  },
  {
   "cell_type": "markdown",
   "metadata": {},
   "source": [
    "# #CODE SEC --------------------------------------------------"
   ]
  },
  {
   "cell_type": "code",
   "execution_count": null,
   "metadata": {},
   "outputs": [],
   "source": [
    "#       // PATIENT DCM // MSK SEG NRRD // DCM NORMALIZATION // IMG PROCESSOR // FLE PROCESSOR"
   ]
  },
  {
   "cell_type": "code",
   "execution_count": null,
   "metadata": {},
   "outputs": [],
   "source": [
    "num_patients = int(check_path(join(os.getcwd(), \"dataset\")))\n",
    "totalslices=(num_patients * InputImage.GetSize()[2])\n",
    "slicesperpatient=InputImage.GetSize()[2]\n",
    "folder_path=join(os.getcwd(), \"dataset\")\n",
    "for patient in sorted(os.listdir(folder_path)):\n",
    "    patient_path = join(folder_path, patient)\n",
    "    InputImage=sitk.ReadImage(sitk.ImageSeriesReader_GetGDCMSeriesFileNames(patient_path)) \n",
    "    inputs = np.empty((num_patients * InputImage.GetSize()[2], int(InputImage.GetSize()[0]/2), int(InputImage.GetSize()[1]), 1))\n",
    "    sortedpatients= sorted(os.listdir(folder_path))\n"
   ]
  },
  {
   "cell_type": "code",
   "execution_count": null,
   "metadata": {},
   "outputs": [],
   "source": [
    "mskoutputs = np.empty((num_patients * InputImage.GetSize()[2], int(InputImage.GetSize()[0]/2), int(InputImage.GetSize()[1]), 9))\n",
    "fleoutputs=np.empty((num_patients * InputImage.GetSize()[2], int(InputImage.GetSize()[0]/2), int(InputImage.GetSize()[1]), 1))\n",
    "fle_count = 0\n",
    "dic_count = 0\n",
    "ann_count = 0\n",
    "R=1\n",
    "try:\n",
    "    for patient in sorted(os.listdir(folder_path)):\n",
    "        clear_output(wait=True)\n",
    "        patient_path = join(folder_path, patient)\n",
    "        nrrd_folder = join(patient_path, \"NRRD\")\n",
    "        dcm_to_np(patient_path)\n",
    "        for nrrd in os.listdir(nrrd_folder):\n",
    "            if(\".nrrd\" in nrrd):\n",
    "                segmentation = sitk.ReadImage(join(nrrd_folder, nrrd))\n",
    "                nrrd_to_np(segmentation,mskoutputs)\n",
    "        fle_folder = join(patient_path, \"FLE\")\n",
    "        for fle in os.listdir(fle_folder):\n",
    "            if(\".nrrd\" in fle):\n",
    "                flesegmentation = sitk.ReadImage(join(fle_folder, fle))\n",
    "                fle_to_np(flesegmentation,fleoutputs)\n",
    "        R+=1\n",
    "except Exception as e:\n",
    "    print(e)"
   ]
  },
  {
   "cell_type": "code",
   "execution_count": null,
   "metadata": {},
   "outputs": [],
   "source": [
    "ImportedArray = np.empty((num_patients * InputImage.GetSize()[2], int(InputImage.GetSize()[0]/2), int(InputImage.GetSize()[1]), 1))\n",
    "ImportedArray = npnormalization (inputs)"
   ]
  },
  {
   "cell_type": "code",
   "execution_count": null,
   "metadata": {},
   "outputs": [],
   "source": [
    "thigharray=np.empty((num_patients * InputImage.GetSize()[2], int(InputImage.GetSize()[0]/2), int(InputImage.GetSize()[1])))\n",
    "ROI_MSK=np.empty((num_patients * InputImage.GetSize()[2], int(InputImage.GetSize()[0]/2), int(InputImage.GetSize()[1])))\n",
    "ROI_FLE=np.empty((num_patients * InputImage.GetSize()[2], int(InputImage.GetSize()[0]/2), int(InputImage.GetSize()[1])))\n",
    "OG_VOL=np.empty((num_patients * InputImage.GetSize()[2], int(InputImage.GetSize()[0]/2), int(InputImage.GetSize()[1])))\n",
    "thigharray,ROI_MSK,ROI_FLE,OG_VOL=imageprocessor(ImportedArray,InputImage,mskoutputs,fleoutputs)\n"
   ]
  },
  {
   "cell_type": "code",
   "execution_count": null,
   "metadata": {},
   "outputs": [],
   "source": [
    "fig, axs=plt.subplots (1,3, figsize=(15,10))\n",
    "axs[0].imshow(mskoutputs[1,:,:,0],\"bone\",vmin=0,vmax=1)\n",
    "axs[0].set_title(\"RF\")\n",
    "axs[0].axis(\"off\")\n",
    "axs[1].imshow(mskoutputs[1,:,:,1],\"bone\",vmin=0,vmax=1)\n",
    "axs[1].set_title('VG')\n",
    "axs[1].axis(\"off\")\n",
    "axs[2].imshow(mskoutputs[1,:,:,2],\"bone\",vmin=0,vmax=1)\n",
    "axs[2].set_title('Femur')\n",
    "axs[2].axis(\"off\")\n",
    "\n",
    "fig, axs=plt.subplots (1,3, figsize=(15,10))\n",
    "axs[0].imshow(mskoutputs[1,:,:,3],\"bone\",vmin=0,vmax=1)\n",
    "axs[0].set_title(\"Gracilis\")\n",
    "axs[0].axis(\"off\")\n",
    "axs[1].imshow(mskoutputs[1,:,:,4],\"bone\",vmin=0,vmax=1)\n",
    "axs[1].set_title('Sartorius')\n",
    "axs[1].axis(\"off\")\n",
    "axs[2].imshow(mskoutputs[1,:,:,5],\"bone\",vmin=0,vmax=1)\n",
    "axs[2].set_title('Adductors')\n",
    "axs[2].axis(\"off\")\n",
    "    \n",
    "fig, axs=plt.subplots (1,3, figsize=(15,10))\n",
    "axs[0].imshow(mskoutputs[1,:,:,6],\"bone\",vmin=0,vmax=1)\n",
    "axs[0].set_title(\"BF\")\n",
    "axs[0].axis(\"off\")\n",
    "axs[1].imshow(mskoutputs[1,:,:,7],\"bone\",vmin=0,vmax=1)\n",
    "axs[1].set_title('ST')\n",
    "axs[1].axis(\"off\")\n",
    "axs[2].imshow(mskoutputs[1,:,:,8],\"bone\",vmin=0,vmax=1)\n",
    "axs[2].set_title('SM')\n",
    "axs[2].axis(\"off\")\n"
   ]
  },
  {
   "cell_type": "code",
   "execution_count": null,
   "metadata": {},
   "outputs": [],
   "source": [
    "plt.imshow(thigharray[1],\"bone\",vmin=0,vmax=255)\n",
    "plt.imshow(fleoutputs[1],\"reds\",vmin=0,vmax=1)"
   ]
  },
  {
   "cell_type": "code",
   "execution_count": null,
   "metadata": {
    "scrolled": true
   },
   "outputs": [],
   "source": [
    "CorrectedFascia = np.empty((num_patients * InputImage.GetSize()[2], int(InputImage.GetSize()[0]/2), int(InputImage.GetSize()[1]), 1))\n",
    "CorrectedFascia = npnormalization (ROI_FLE)\n",
    "CorrectedFascia=CorrectedFascia[:,:,:,0]"
   ]
  },
  {
   "cell_type": "code",
   "execution_count": null,
   "metadata": {},
   "outputs": [],
   "source": [
    "iThreshold=[]\n",
    "print('Multi Otsu Threshold...')\n",
    "for i in range(totalslices):\n",
    "    iThreshold.append([])\n",
    "    iThreshold[i]=multi_otsu(CorrectedFascia[i])\n",
    "print (\"-----------------------------------------------------------\")\n"
   ]
  },
  {
   "cell_type": "code",
   "execution_count": null,
   "metadata": {
    "scrolled": true
   },
   "outputs": [],
   "source": [
    "#ITSA Threshold Seeking Round 1 \n",
    "fleROI_R1=np.zeros([thigharray.shape[0], thigharray.shape[1], thigharray.shape[2]], dtype='uint8')\n",
    "fatseg=np.zeros([thigharray.shape[0], thigharray.shape[1], thigharray.shape[2]], dtype='uint8')\n",
    "fatsegMASK=np.zeros([thigharray.shape[0], thigharray.shape[1], thigharray.shape[2]], dtype='uint8') #change name\n",
    "threshold_R1=[] #change name compared to single slice?\n",
    "print(\"ITSA Round 1 Initiation...\")\n",
    "for i in range(totalslices):\n",
    "    threshold_R1.append([])\n",
    "    fatseg[i],threshold_R1[i]=ITSA(i, CorrectedFascia, iThreshold,OG_VOL )  #fatsegfinalvol_mask_R1=round 1 final fat mask with islands REMOVED\n",
    "    print (f\"Slice #{i+1} Round 1 Th1 = {threshold_R1[i]}\")\n",
    "    print (\"-----------------------------------------------------------\")\n",
    "    \n",
    "for i in range(totalslices):\n",
    "    print (f\"Slice #{i+1} Th1 OG/Rev={threshold_R1[i]}\")"
   ]
  },
  {
   "cell_type": "code",
   "execution_count": null,
   "metadata": {},
   "outputs": [],
   "source": [
    "fleROI_R1=CorrectedFascia-fatseg\n",
    "PatientViewer(CorrectedFascia[i],\"Original Array\",fatseg[i],\"Fat Segmentation Round 1\",fleROI_R1[i],\"Muscle Segmentation Round 1\")"
   ]
  },
  {
   "cell_type": "code",
   "execution_count": null,
   "metadata": {},
   "outputs": [],
   "source": [
    "#ITSA Threshold Seeking Round 2\n",
    "print('Multi Otsu Threshold Round 2...')\n",
    "iThresholdR2=[]\n",
    "for i in range(totalslices):\n",
    "    iThresholdR2.append([])\n",
    "    iThresholdR2[i]=multi_otsu(fleROI_R1[i])"
   ]
  },
  {
   "cell_type": "code",
   "execution_count": null,
   "metadata": {
    "scrolled": true
   },
   "outputs": [],
   "source": [
    "fatsegR2=np.zeros([thigharray.shape[0], thigharray.shape[1], thigharray.shape[2]], dtype='uint8') \n",
    "threshold_R2=[] \n",
    "for i in range(totalslices):\n",
    "    threshold_R2.append([])\n",
    "    fatsegR2[i], threshold_R2[i]=ITSA(i, fleROI_R1, iThresholdR2, OG_VOL)  #fatsegfinalvol_mask_R1=round 1 final fat mask with islands REMOVED\n",
    "    \n",
    "    print (f\"Slice #{i+1} Round 2 Threshold = {threshold_R2[i]}\")\n",
    "    print (\"-----------------------------------------------------------\")\n",
    "for i in range(totalslices):\n",
    "    print (f\"Slice #{i+1} Th2 OG/Rev={threshold_R2[i]}\")"
   ]
  },
  {
   "cell_type": "code",
   "execution_count": null,
   "metadata": {
    "scrolled": true
   },
   "outputs": [],
   "source": [
    "CorrectedFatSegmentation=np.zeros([thigharray.shape[0], thigharray.shape[1], thigharray.shape[2]], dtype='uint8')\n",
    "print('Correcting Potential Segmentation Errors... Please Wait...')\n",
    "CorrectedFatSegmentation=correction(fatsegR2,fleROI_R1)\n",
    "FinalFatSegmentation = fatseg+CorrectedFatSegmentation\n",
    "FinalMuscleSegmentation = ROI_FLE - FinalFatSegmentation\n",
    "PatientViewer(thigharray,\"Original Array\",FinalFatSegmentation,\"Fat Segmentation (Final Corrected)\",FinalMuscleSegmentation,\"Muscle Segmentation (Final Corrected)\")"
   ]
  },
  {
   "cell_type": "code",
   "execution_count": null,
   "metadata": {},
   "outputs": [],
   "source": [
    "Post3D=np.zeros([thigharray.shape[0], thigharray.shape[1], thigharray.shape[2]], dtype='uint8')\n",
    "for i in range (150,165):\n",
    "    Post3D[i]=connectivity(FinalFatSegmentation,thigharray)"
   ]
  },
  {
   "cell_type": "code",
   "execution_count": null,
   "metadata": {},
   "outputs": [],
   "source": [
    "for i in range (150,165):    \n",
    "    plt.imshow(Post3D[i],'bone',vmax=1)\n",
    "    plt.show()"
   ]
  },
  {
   "cell_type": "code",
   "execution_count": null,
   "metadata": {},
   "outputs": [],
   "source": [
    "fatmask.shape"
   ]
  },
  {
   "cell_type": "code",
   "execution_count": null,
   "metadata": {},
   "outputs": [],
   "source": [
    "def connectivity(fatmask,OG_VOL):\n",
    "        fatmask = np.uint8(fatmask)\n",
    "        ret, fatmask = cv2.threshold(fatmask,0,1,cv2.THRESH_BINARY)\n",
    "        if i==0:\n",
    "            fatcombined_next=OG_VOL[i+1]+fatmask[i]\n",
    "            ret, fatconnectedparts_next= cv2.threshold(fatcombined_next,1,1,cv2.THRESH_BINARY)\n",
    "            z_connection=fatconnectedparts_next\n",
    "        elif i==(totalslices-1):\n",
    "            fatcombined_prev=OG_VOL[i-1]+fatmask[i]\n",
    "            ret, fatconnectedparts_prev= cv2.threshold(fatcombined_prev,1,1,cv2.THRESH_BINARY)\n",
    "            z_connection=fatconnectedparts_prev  \n",
    "        else:\n",
    "            fatcombined_prev=OG_VOL[i-1]+fatmask[i]\n",
    "            fatcombined_next=fatmask[i]+OG_VOL[i+1]\n",
    "            ret, fatconnectedparts_prev= cv2.threshold(fatcombined_prev,1,1,cv2.THRESH_BINARY)\n",
    "            ret, fatconnectedparts_next= cv2.threshold(fatcombined_next,1,1,cv2.THRESH_BINARY)\n",
    "\n",
    "            z_connection=fatconnectedparts_prev+fatconnectedparts_next\n",
    "            ret, z_connection= cv2.threshold(z_connection,0,1,cv2.THRESH_BINARY)         \n",
    "        #NEW: find XY connections to Z connected parts\n",
    "        coordinates= np.argwhere(z_connection ==1)    \n",
    "        im_ff=fatmask[i].copy()\n",
    "        h, w = im_ff.shape[:2] #added\n",
    "        mask = np.zeros((h+2, w+2), np.uint8)\n",
    "        for item in range(len(coordinates)):\n",
    "            cv2.floodFill(im_ff, mask, (coordinates[item][1],coordinates[item][0]), 2) \n",
    "        #Remove small islands for Non-Z parts\n",
    "        nonZ =label(im_ff==1)\n",
    "        nonZ_keep = (morphology.remove_small_objects(nonZ,min_size=8, connectivity=1))\n",
    "        ret, nonZ_keep= cv2.threshold(np.uint8(nonZ_keep),0,1,cv2.THRESH_BINARY)\n",
    "        Z = (im_ff==2)\n",
    "        prefatseg1=(Z+nonZ_keep) #do we need int cus boolean??\n",
    "        return prefatseg1"
   ]
  },
  {
   "cell_type": "code",
   "execution_count": null,
   "metadata": {},
   "outputs": [],
   "source": [
    "PatientViewer(fatseg,\"Fat Segmentation Round 1\",CorrectedFatSegmentation,\"Fat Segmentation Round 2\",FinalFatSegmentation,\"Fat Segmentation (Final)\")"
   ]
  },
  {
   "cell_type": "code",
   "execution_count": null,
   "metadata": {},
   "outputs": [],
   "source": [
    "\"ROUND 1 ITSA DATA\"\n",
    "PDFTHR=np.empty([num_patients,1])\n",
    "PDFTHR=dataexport(ROI_FLE,fatseg,InputImage)"
   ]
  },
  {
   "cell_type": "code",
   "execution_count": null,
   "metadata": {},
   "outputs": [],
   "source": [
    "\"FINAL ROUND 2 ITSA DATA\"\n",
    "PDFTHR2=np.empty([num_patients,1])\n",
    "PDFTHR2=dataexport(ROI_FLE,FinalFatSegmentation,InputImage)"
   ]
  },
  {
   "cell_type": "code",
   "execution_count": null,
   "metadata": {},
   "outputs": [],
   "source": [
    "\"Rectus Femoris\"\n",
    "ROIrf=ROI_FLE*mskoutputs[:,:,:,0]\n",
    "finalfatsegRF=FinalFatSegmentation*mskoutputs[:,:,:,0]\n",
    "PDFRF=np.empty([num_patients,1])\n",
    "PDFRF=dataexport(ROIrf,finalfatsegRF,InputImage)"
   ]
  },
  {
   "cell_type": "code",
   "execution_count": null,
   "metadata": {
    "scrolled": true
   },
   "outputs": [],
   "source": [
    "\"Vastus Group\"\n",
    "ROIvg=ROI_FLE*mskoutputs[:,:,:,1]\n",
    "finalfatsegVG=FinalFatSegmentation*mskoutputs[:,:,:,1]\n",
    "PDFVG=np.empty([num_patients,1])\n",
    "PDFVG=dataexport(ROIvg,finalfatsegVG,InputImage)"
   ]
  },
  {
   "cell_type": "code",
   "execution_count": null,
   "metadata": {},
   "outputs": [],
   "source": [
    "\"Gracilis\"\n",
    "ROIgr=ROI_FLE*mskoutputs[:,:,:,3]\n",
    "finalfatsegGR=FinalFatSegmentation*mskoutputs[:,:,:,3]\n",
    "PDFGR=np.empty([num_patients,1])\n",
    "PDFGR=dataexport(ROIgr,finalfatsegGR,InputImage)"
   ]
  },
  {
   "cell_type": "code",
   "execution_count": null,
   "metadata": {},
   "outputs": [],
   "source": [
    "\"Sartorius\"\n",
    "ROIsr=ROI_FLE*mskoutputs[:,:,:,4]\n",
    "finalfatsegSR=FinalFatSegmentation*mskoutputs[:,:,:,4]\n",
    "PDFSR=np.empty([num_patients,1])\n",
    "PDFSR=dataexport(ROIsr,finalfatsegSR,InputImage)"
   ]
  },
  {
   "cell_type": "code",
   "execution_count": null,
   "metadata": {},
   "outputs": [],
   "source": [
    "\"Adductors\"\n",
    "ROIad=ROI_FLE*mskoutputs[:,:,:,5]\n",
    "finalfatsegAD=FinalFatSegmentation*mskoutputs[:,:,:,5]\n",
    "PDFAD=np.empty([num_patients,1])\n",
    "PDFAD=dataexport(ROIad,finalfatsegAD,InputImage)"
   ]
  },
  {
   "cell_type": "code",
   "execution_count": null,
   "metadata": {},
   "outputs": [],
   "source": [
    "\"bicepsfemoris\"\n",
    "ROIbf=ROI_FLE*mskoutputs[:,:,:,6]\n",
    "finalfatsegBF=FinalFatSegmentation*mskoutputs[:,:,:,6]\n",
    "PDFBF=np.empty([num_patients,1])\n",
    "PDFBF=dataexport(ROIbf,finalfatsegBF,InputImage)"
   ]
  },
  {
   "cell_type": "code",
   "execution_count": null,
   "metadata": {},
   "outputs": [],
   "source": [
    "\"semitendinosus\"\n",
    "ROIst=ROI_FLE*mskoutputs[:,:,:,7]\n",
    "finalfatsegST=FinalFatSegmentation*mskoutputs[:,:,:,7]\n",
    "PDFST=np.empty([num_patients,1])\n",
    "PDFST=dataexport(ROIst,finalfatsegST,InputImage)"
   ]
  },
  {
   "cell_type": "code",
   "execution_count": null,
   "metadata": {},
   "outputs": [],
   "source": [
    "\"Semimembranosus\"\n",
    "ROIsm=ROI_FLE*mskoutputs[:,:,:,8]\n",
    "finalfatsegSM=FinalFatSegmentation*mskoutputs[:,:,:,8]\n",
    "PSFSM=np.empty([num_patients,1])\n",
    "PDFSM=dataexport(ROIsm,finalfatsegSM,InputImage)"
   ]
  },
  {
   "cell_type": "code",
   "execution_count": null,
   "metadata": {},
   "outputs": [],
   "source": [
    "FINALPDF=np.empty([num_patients,0])\n",
    "FINALPDF=np.append(FINALPDF,PDFTHR,axis=1)\n",
    "FINALPDF=np.append(FINALPDF,PDFTHR2,axis=1)\n",
    "FINALPDF=np.append(FINALPDF,PDFRF,axis=1)\n",
    "FINALPDF=np.append(FINALPDF,PDFVG,axis=1)\n",
    "FINALPDF=np.append(FINALPDF,PDFGR,axis=1)\n",
    "FINALPDF=np.append(FINALPDF,PDFSR,axis=1)\n",
    "FINALPDF=np.append(FINALPDF,PDFAD,axis=1)\n",
    "FINALPDF=np.append(FINALPDF,PDFBF,axis=1)\n",
    "FINALPDF=np.append(FINALPDF,PDFST,axis=1)\n",
    "FINALPDF=np.append(FINALPDF,PDFSM,axis=1)"
   ]
  },
  {
   "cell_type": "code",
   "execution_count": null,
   "metadata": {},
   "outputs": [],
   "source": [
    "msk = [\"Thigh R1 \",\"Thigh R2 (ΣR1&2) \", \"Rectus Femoris \", \"Vastus Group \", \"Gracilis \", \"Sartorius \", \"Adductors \", \"Biceps Femoris \", \"Semitendinosus \", \"Semimembranosus \"]\n",
    "var = [\"MUSCLE & FAT AREA (CM^2)\", \"FAT AREA (CM^2)\",\"MUSCLE AREA (CM^2)\", \"FAT PERCENTAGE (%)\", \"MUSCLE & FAT VOL (CM^3)\", \"FAT VOL (CM^3)\", \"MUSCLE VOL (CM^3)\" ]\n",
    "for j in (msk):\n",
    "    for k in (var):\n",
    "        lst = [(j + k) for j in msk for k in var]\n",
    "df = pd.DataFrame(FINALPDF, index=sorted(os.listdir(folder_path)), columns=lst)\n",
    "df.to_csv('ITSAOAITHIGHDATA.csv')\n"
   ]
  },
  {
   "cell_type": "code",
   "execution_count": null,
   "metadata": {},
   "outputs": [],
   "source": [
    "OG_VOL.shape"
   ]
  },
  {
   "cell_type": "code",
   "execution_count": null,
   "metadata": {},
   "outputs": [],
   "source": [
    "ImportedArray.shape"
   ]
  },
  {
   "cell_type": "code",
   "execution_count": null,
   "metadata": {},
   "outputs": [],
   "source": [
    "def get_snakeim():\n",
    "    snake_im=np.zeros([thigharray.shape[0], thigharray.shape[1], thigharray.shape[2]], dtype='uint8')\n",
    "    snake_im=ImportedArray[:,:,:,0]\n",
    "    for i in range(5):\n",
    "        snake_im[i] = np.where(OG_VOL[i]==1,255,snake_im[i]) #where the coordinates on white=1 (vessels), on snake_im make it make those coordaintes it 255 (make the vessel coordinates white to remove them)\n",
    "    return snake_im\n",
    "\n",
    "snake_im=get_snakeim()"
   ]
  },
  {
   "cell_type": "code",
   "execution_count": null,
   "metadata": {},
   "outputs": [],
   "source": [
    "plt.imshow(snake_im[1],cmap='bone')"
   ]
  },
  {
   "cell_type": "code",
   "execution_count": null,
   "metadata": {},
   "outputs": [],
   "source": [
    "prefloodfill = np.empty((num_patients * InputImage.GetSize()[2], int(InputImage.GetSize()[0]/2), int(InputImage.GetSize()[1]), 1))\n",
    "prefloodfill = npnormalization (snake_im)\n",
    "prefloodfill = prefloodfill[:,:,:,0]\n"
   ]
  },
  {
   "cell_type": "code",
   "execution_count": null,
   "metadata": {},
   "outputs": [],
   "source": [
    "plt.imshow(prefloodfill[1],cmap='bone')"
   ]
  },
  {
   "cell_type": "code",
   "execution_count": null,
   "metadata": {},
   "outputs": [],
   "source": [
    "\n",
    "def bilat_fil_snake_im(image):\n",
    "    bilateral_t=np.zeros([inputs.shape[0], inputs.shape[1], inputs.shape[2]], dtype='uint8')\n",
    "    for i in range(5):\n",
    "        bilateral_t[i] = cv2.bilateralFilter(image[i],20,35,35)\n",
    "    return bilateral_t\n",
    "\n",
    "bilateral_t=bilat_fil_snake_im(np.uint8(snake_im))\n",
    "plt.imshow(bilateral_t[1],cmap='bone')"
   ]
  },
  {
   "cell_type": "code",
   "execution_count": null,
   "metadata": {},
   "outputs": [],
   "source": [
    "j=5"
   ]
  },
  {
   "cell_type": "code",
   "execution_count": null,
   "metadata": {},
   "outputs": [],
   "source": [
    "contoursvol=[]\n",
    "hiercvol=[]\n",
    "contour_listvol=[]\n",
    "maskoutlinevol=[]\n",
    "\n",
    "r=np.zeros([inputs.shape[0], inputs.shape[1], inputs.shape[2]], dtype='uint8')\n",
    "\n",
    "OG_VOL2=cv2.convertTo(OG_VOL,OG_VOL2,CV_BGR2GRAY)\n",
    "for i in range(j):\n",
    "    contoursvol.append([])\n",
    "    hiercvol.append([])\n",
    "    contour_listvol.append([])\n",
    "    maskoutlinevol.append([])\n",
    "    \n",
    "for i in range (j):\n",
    "    a, b =  cv2.findContours(OG_VOL[i], cv2.RETR_TREE, cv2.CHAIN_APPROX_SIMPLE)\n",
    "    contoursvol[i].append(a)\n",
    "x    hiercvol[i].append(b)\n",
    "    \n",
    "    for contour in contoursvol[i][0]:      \n",
    "        contour_listvol[i].append(contour)\n",
    "\n",
    "    maskoutlinevol[i] = cv2.drawContours(r[i], contour_listvol[i],  -1, (1,0,0), 1)"
   ]
  },
  {
   "cell_type": "code",
   "execution_count": null,
   "metadata": {},
   "outputs": [],
   "source": [
    "# Find contours at a constant value of 0.8\n",
    "contours = measure.find_contours(ROI_MSK[1,:,:],0)\n",
    "plt.imshow(contours[90])\n",
    "plt.show()"
   ]
  },
  {
   "cell_type": "code",
   "execution_count": null,
   "metadata": {},
   "outputs": [],
   "source": [
    "# Find contours at a constant value of 0.8\n",
    "contours = measure.find_contours(ROI_MSK[1],0)\n",
    "plt.imshow\n",
    "# Display the image and plot all contours found\n",
    "fig, ax = plt.subplots()\n",
    "ax.imshow(inputs[1], cmap=plt.cm.gray)\n",
    "\n",
    "for contour in contours:\n",
    "    ax.plot(contour[:, 1], contour[:, 0], linewidth=2)\n",
    "\n",
    "ax.axis('image')\n",
    "ax.set_xticks([])\n",
    "ax.set_yticks([])\n",
    "plt.show()"
   ]
  },
  {
   "cell_type": "code",
   "execution_count": null,
   "metadata": {},
   "outputs": [],
   "source": [
    "inpus=np.zeros([inputs.shape[0], inputs.shape[1], inputs.shape[2]], dtype='object')\n",
    "inpus=np.where(contours,1,0)"
   ]
  },
  {
   "cell_type": "code",
   "execution_count": null,
   "metadata": {},
   "outputs": [],
   "source": [
    "contour_listvol=[]\n",
    "maskoutlinevol=[]\n",
    "contoursvol=[]\n",
    "r=np.zeros([inputs.shape[0], inputs.shape[1], inputs.shape[2]], dtype='uint8')\n",
    "for i in range(10):\n",
    "    contoursvol.append([])\n",
    "    contour_listvol.append([])\n",
    "    maskoutlinevol.append([])\n",
    "    \n",
    "maskoutlinevol[1] = cv2.drawContours(r[1], contours[1],  -1, (1,0,0), 1)"
   ]
  },
  {
   "cell_type": "code",
   "execution_count": null,
   "metadata": {},
   "outputs": [],
   "source": [
    "def fill_contours(arr):\n",
    "    return np.maximum.accumulate(arr,1) & \\\n",
    "           np.maximum.accumulate(arr[:,::-1],1)[:,::-1]\n",
    "\n",
    "fill_contours(OG_VOL[1])"
   ]
  },
  {
   "cell_type": "code",
   "execution_count": null,
   "metadata": {},
   "outputs": [],
   "source": [
    "hull2vol=[]\n",
    "\n",
    "for i in range(5):\n",
    "    hull2vol.append([])\n",
    "    for i2 in range(len(OG_VOL[i][0][0])):\n",
    "        hull2vol[i].append(OG_VOL[i][0][0][i2][0])\n",
    "        \n",
    "\n",
    "    hull2vol[i]=np.array(hull2vol[i])\n",
    "    hull2vol[i]=hull2vol[i].astype(float)"
   ]
  },
  {
   "cell_type": "code",
   "execution_count": null,
   "metadata": {},
   "outputs": [],
   "source": [
    "#primary\n",
    "def primary_snake():\n",
    "\n",
    "    snakevol_p=[]\n",
    "    for i in range(5):\n",
    "        snakevol_p.append([])\n",
    "        snakevol_p[i]= active_contour(bilateral_t[i], hull2vol[i],alpha=0.0001,gamma=10,beta=0.05,w_edge=2,w_line=-5,convergence=0.5)\n",
    "        \n",
    "        #hull2vol[i] = coordinates for snake initiation \n",
    "        #alpha=snakes energy, tendency to move away from OG initiator (higher alpha=more freedom to move)-small here cus initiated snake close to fascia already \n",
    "        #beta= smoothness (higher beta = smoother) w_line = attraction the dark/white (- means attracted to DARK pixels, + to white pixels) w_edge - attraction to edges (higher=more attraction\n",
    "\n",
    "    return snakevol_p #LIST of coordinates\n",
    "\n",
    "snakevol_p=primary_snake()\n",
    "\n",
    "fig, axs = plt.subplots(5, 3, figsize=(18,80))   \n",
    "for i in range(5):\n",
    "    axs[i,0].set_title(f\"slice {i+1}\", fontsize=14)\n",
    "    axs[i,0].imshow(bilateral_t[i], cmap='bone')\n",
    "\n",
    "    axs[i,1].imshow(bilateral_t[i], cmap='bone')\n",
    "    axs[i,1].plot(hull2vol[i][:, 0], hull2vol[i][:, 1], '--r', lw=1)\n",
    "\n",
    "    axs[i,2].imshow(bilateral_t[i], cmap='bone')\n",
    "    axs[i,2].plot(snakevol_p[i][:, 0], snakevol_p[i][:, 1], '-b', lw=1)"
   ]
  },
  {
   "cell_type": "code",
   "execution_count": null,
   "metadata": {},
   "outputs": [],
   "source": []
  }
 ],
 "metadata": {
  "kernelspec": {
   "display_name": "Python 3 (ipykernel)",
   "language": "python",
   "name": "python3"
  },
  "language_info": {
   "codemirror_mode": {
    "name": "ipython",
    "version": 3
   },
   "file_extension": ".py",
   "mimetype": "text/x-python",
   "name": "python",
   "nbconvert_exporter": "python",
   "pygments_lexer": "ipython3",
   "version": "3.10.9"
  }
 },
 "nbformat": 4,
 "nbformat_minor": 4
}
